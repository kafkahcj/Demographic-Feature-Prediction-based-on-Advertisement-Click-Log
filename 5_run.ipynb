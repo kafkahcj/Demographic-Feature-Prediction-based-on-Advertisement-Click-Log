{
 "cells": [
  {
   "cell_type": "code",
   "execution_count": null,
   "metadata": {},
   "outputs": [],
   "source": [
    "!python LSTM_training_auto.py --size=128 --window=128 --lstm_size=1024 --fc1=1024 --fc2=512 "
   ]
  },
  {
   "cell_type": "code",
   "execution_count": null,
   "metadata": {},
   "outputs": [],
   "source": [
    "!python LSTM_training_auto.py --size=512 --window=10 --lstm_size=1500 --fc1=1500 --fc2=800 --rnn_dropout=0.1 --fc_dropout=0.4  --embedding_dropout=0.3"
   ]
  },
  {
   "cell_type": "code",
   "execution_count": null,
   "metadata": {},
   "outputs": [],
   "source": [
    "!python LSTM_training_auto.py --size=512 --window=10 --lstm_size=1500 --fc1=1500 --fc2=800 --rnn_dropout=0.1 --fc_dropout=0.4  --embedding_dropout=0.3"
   ]
  },
  {
   "cell_type": "code",
   "execution_count": null,
   "metadata": {},
   "outputs": [],
   "source": [
    "!python LSTM_training_auto.py --size=512 --window=10 --lstm_size=1500 --fc1=1500 --fc2=800 --rnn_dropout=0.1 --fc_dropout=0.4  --embedding_dropout=0.3"
   ]
  },
  {
   "cell_type": "code",
   "execution_count": null,
   "metadata": {},
   "outputs": [],
   "source": [
    "!python LSTM_training_auto.py --size=512 --window=10 --lstm_size=1500 --fc1=1500 --fc2=800 --rnn_dropout=0.1 --fc_dropout=0.4  --embedding_dropout=0.3"
   ]
  },
  {
   "cell_type": "code",
   "execution_count": null,
   "metadata": {},
   "outputs": [],
   "source": [
    "!python LSTM_training_auto.py --size=300 --window=50 --lstm_size=1500 --fc1=1500 --fc2=800 --fc_dropout=0.3 --embedding_dropout=0.3"
   ]
  },
  {
   "cell_type": "code",
   "execution_count": null,
   "metadata": {},
   "outputs": [],
   "source": [
    "!python LSTM_training_auto.py --size=300 --window=50 --lstm_size=1500 --fc1=1500 --fc2=800 --fc_dropout=0.3 --embedding_dropout=0.3"
   ]
  },
  {
   "cell_type": "code",
   "execution_count": null,
   "metadata": {},
   "outputs": [],
   "source": [
    "!python LSTM_training_auto.py --size=300 --window=40 --lstm_size=1500 --fc1=1500 --fc2=800 --rnn_dropout=0.0 --fc_dropout=0.2 --embedding_dropout=0.2\n"
   ]
  },
  {
   "cell_type": "code",
   "execution_count": null,
   "metadata": {},
   "outputs": [],
   "source": [
    "!python LSTM_training_auto.py --size=300 --window=50 --kfold=10 --lstm_size=1500 --fc1=1500 --fc2=800 --rnn_dropout=0.0 --fc_dropout=0.3 --embedding_dropout=0.3 --epochs=20 --model_name='_10fold'\n"
   ]
  },
  {
   "cell_type": "code",
   "execution_count": null,
   "metadata": {},
   "outputs": [],
   "source": [
    "!python LSTM_training_auto.py --size=300 --window=10 --lstm_size=1024 --fc1=1024 --fc2=512 --rnn_dropout=0.2 --fc_dropout=0.2 --embedding_dropout=0.2 --model_name='_dropout'\n"
   ]
  },
  {
   "cell_type": "code",
   "execution_count": null,
   "metadata": {},
   "outputs": [],
   "source": [
    "!python LSTM_training_auto_attention.py --size=300 --window=50 --lstm_size=1500 --fc1=1500 --fc2=800 --rnn_dropout=0.2 --fc_dropout=0.3 --embedding_dropout=0.3\n"
   ]
  },
  {
   "cell_type": "code",
   "execution_count": null,
   "metadata": {},
   "outputs": [],
   "source": [
    "!python LSTM_training_auto_attention.py --size=300 --window=50 --lstm_size=1500 --fc1=1500 --fc2=800 --rnn_dropout=0.2 --fc_dropout=0.3 --embedding_dropout=0.3\n"
   ]
  },
  {
   "cell_type": "code",
   "execution_count": null,
   "metadata": {},
   "outputs": [],
   "source": [
    "!python LSTM_training_auto_attention.py --size=512 --window=10 --lstm_size=1500 --fc1=1500 --fc2=800 --rnn_dropout=0.1 --fc_dropout=0.4  --embedding_dropout=0.3"
   ]
  }
 ],
 "metadata": {
  "language_info": {
   "name": "python"
  },
  "orig_nbformat": 4
 },
 "nbformat": 4,
 "nbformat_minor": 2
}
